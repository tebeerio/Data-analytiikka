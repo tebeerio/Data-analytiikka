{
 "cells": [
  {
   "cell_type": "code",
   "execution_count": 2,
   "metadata": {},
   "outputs": [],
   "source": [
    "import pandas as pd # Tuodaan pandas-kirjasto.\n",
    "import matplotlib.pyplot as plt # Tuodaan kuvioiden ja kaavioiden peruskirjasto.\n",
    "# Tällä komennolla kaaviot saadaan tulostumaan automaattisesti ilman erillistä komentoa.\n",
    "%matplotlib inline \n",
    "\n",
    "plt.style.use('seaborn-whitegrid') # Kaavioiden ulkoasun tyyli."
   ]
  },
  {
   "cell_type": "code",
   "execution_count": 11,
   "metadata": {},
   "outputs": [
    {
     "data": {
      "text/html": [
       "<div>\n",
       "<style scoped>\n",
       "    .dataframe tbody tr th:only-of-type {\n",
       "        vertical-align: middle;\n",
       "    }\n",
       "\n",
       "    .dataframe tbody tr th {\n",
       "        vertical-align: top;\n",
       "    }\n",
       "\n",
       "    .dataframe thead th {\n",
       "        text-align: right;\n",
       "    }\n",
       "</style>\n",
       "<table border=\"1\" class=\"dataframe\">\n",
       "  <thead>\n",
       "    <tr style=\"text-align: right;\">\n",
       "      <th></th>\n",
       "      <th>ORDERNUMBER</th>\n",
       "      <th>QUANTITYORDERED</th>\n",
       "      <th>PRICEEACH</th>\n",
       "      <th>ORDERLINENUMBER</th>\n",
       "      <th>SALES</th>\n",
       "      <th>ORDERDATE</th>\n",
       "      <th>STATUS</th>\n",
       "      <th>QTR_ID</th>\n",
       "      <th>MONTH_ID</th>\n",
       "      <th>YEAR_ID</th>\n",
       "      <th>...</th>\n",
       "      <th>ADDRESSLINE1</th>\n",
       "      <th>ADDRESSLINE2</th>\n",
       "      <th>CITY</th>\n",
       "      <th>STATE</th>\n",
       "      <th>POSTALCODE</th>\n",
       "      <th>COUNTRY</th>\n",
       "      <th>TERRITORY</th>\n",
       "      <th>CONTACTLASTNAME</th>\n",
       "      <th>CONTACTFIRSTNAME</th>\n",
       "      <th>DEALSIZE</th>\n",
       "    </tr>\n",
       "  </thead>\n",
       "  <tbody>\n",
       "    <tr>\n",
       "      <td>0</td>\n",
       "      <td>10107</td>\n",
       "      <td>30</td>\n",
       "      <td>95.70</td>\n",
       "      <td>2</td>\n",
       "      <td>2871.00</td>\n",
       "      <td>2/24/2003 0:00</td>\n",
       "      <td>Shipped</td>\n",
       "      <td>1</td>\n",
       "      <td>2</td>\n",
       "      <td>2003</td>\n",
       "      <td>...</td>\n",
       "      <td>897 Long Airport Avenue</td>\n",
       "      <td>NaN</td>\n",
       "      <td>NYC</td>\n",
       "      <td>NY</td>\n",
       "      <td>10022</td>\n",
       "      <td>USA</td>\n",
       "      <td>NaN</td>\n",
       "      <td>Yu</td>\n",
       "      <td>Kwai</td>\n",
       "      <td>Small</td>\n",
       "    </tr>\n",
       "    <tr>\n",
       "      <td>1</td>\n",
       "      <td>10121</td>\n",
       "      <td>34</td>\n",
       "      <td>81.35</td>\n",
       "      <td>5</td>\n",
       "      <td>2765.90</td>\n",
       "      <td>5/7/2003 0:00</td>\n",
       "      <td>Shipped</td>\n",
       "      <td>2</td>\n",
       "      <td>5</td>\n",
       "      <td>2003</td>\n",
       "      <td>...</td>\n",
       "      <td>59 rue de l'Abbaye</td>\n",
       "      <td>NaN</td>\n",
       "      <td>Reims</td>\n",
       "      <td>NaN</td>\n",
       "      <td>51100</td>\n",
       "      <td>France</td>\n",
       "      <td>EMEA</td>\n",
       "      <td>Henriot</td>\n",
       "      <td>Paul</td>\n",
       "      <td>Small</td>\n",
       "    </tr>\n",
       "    <tr>\n",
       "      <td>2</td>\n",
       "      <td>10134</td>\n",
       "      <td>41</td>\n",
       "      <td>94.74</td>\n",
       "      <td>2</td>\n",
       "      <td>3884.34</td>\n",
       "      <td>7/1/2003 0:00</td>\n",
       "      <td>Shipped</td>\n",
       "      <td>3</td>\n",
       "      <td>7</td>\n",
       "      <td>2003</td>\n",
       "      <td>...</td>\n",
       "      <td>27 rue du Colonel Pierre Avia</td>\n",
       "      <td>NaN</td>\n",
       "      <td>Paris</td>\n",
       "      <td>NaN</td>\n",
       "      <td>75508</td>\n",
       "      <td>France</td>\n",
       "      <td>EMEA</td>\n",
       "      <td>Da Cunha</td>\n",
       "      <td>Daniel</td>\n",
       "      <td>Medium</td>\n",
       "    </tr>\n",
       "    <tr>\n",
       "      <td>3</td>\n",
       "      <td>10145</td>\n",
       "      <td>45</td>\n",
       "      <td>83.26</td>\n",
       "      <td>6</td>\n",
       "      <td>3746.70</td>\n",
       "      <td>8/25/2003 0:00</td>\n",
       "      <td>Shipped</td>\n",
       "      <td>3</td>\n",
       "      <td>8</td>\n",
       "      <td>2003</td>\n",
       "      <td>...</td>\n",
       "      <td>78934 Hillside Dr.</td>\n",
       "      <td>NaN</td>\n",
       "      <td>Pasadena</td>\n",
       "      <td>CA</td>\n",
       "      <td>90003</td>\n",
       "      <td>USA</td>\n",
       "      <td>NaN</td>\n",
       "      <td>Young</td>\n",
       "      <td>Julie</td>\n",
       "      <td>Medium</td>\n",
       "    </tr>\n",
       "    <tr>\n",
       "      <td>4</td>\n",
       "      <td>10159</td>\n",
       "      <td>49</td>\n",
       "      <td>100.00</td>\n",
       "      <td>14</td>\n",
       "      <td>5205.27</td>\n",
       "      <td>10/10/2003 0:00</td>\n",
       "      <td>Shipped</td>\n",
       "      <td>4</td>\n",
       "      <td>10</td>\n",
       "      <td>2003</td>\n",
       "      <td>...</td>\n",
       "      <td>7734 Strong St.</td>\n",
       "      <td>NaN</td>\n",
       "      <td>San Francisco</td>\n",
       "      <td>CA</td>\n",
       "      <td>NaN</td>\n",
       "      <td>USA</td>\n",
       "      <td>NaN</td>\n",
       "      <td>Brown</td>\n",
       "      <td>Julie</td>\n",
       "      <td>Medium</td>\n",
       "    </tr>\n",
       "  </tbody>\n",
       "</table>\n",
       "<p>5 rows × 25 columns</p>\n",
       "</div>"
      ],
      "text/plain": [
       "   ORDERNUMBER  QUANTITYORDERED  PRICEEACH  ORDERLINENUMBER    SALES  \\\n",
       "0        10107               30      95.70                2  2871.00   \n",
       "1        10121               34      81.35                5  2765.90   \n",
       "2        10134               41      94.74                2  3884.34   \n",
       "3        10145               45      83.26                6  3746.70   \n",
       "4        10159               49     100.00               14  5205.27   \n",
       "\n",
       "         ORDERDATE   STATUS  QTR_ID  MONTH_ID  YEAR_ID  ...  \\\n",
       "0   2/24/2003 0:00  Shipped       1         2     2003  ...   \n",
       "1    5/7/2003 0:00  Shipped       2         5     2003  ...   \n",
       "2    7/1/2003 0:00  Shipped       3         7     2003  ...   \n",
       "3   8/25/2003 0:00  Shipped       3         8     2003  ...   \n",
       "4  10/10/2003 0:00  Shipped       4        10     2003  ...   \n",
       "\n",
       "                    ADDRESSLINE1  ADDRESSLINE2           CITY STATE  \\\n",
       "0        897 Long Airport Avenue           NaN            NYC    NY   \n",
       "1             59 rue de l'Abbaye           NaN          Reims   NaN   \n",
       "2  27 rue du Colonel Pierre Avia           NaN          Paris   NaN   \n",
       "3             78934 Hillside Dr.           NaN       Pasadena    CA   \n",
       "4                7734 Strong St.           NaN  San Francisco    CA   \n",
       "\n",
       "  POSTALCODE COUNTRY TERRITORY CONTACTLASTNAME CONTACTFIRSTNAME DEALSIZE  \n",
       "0      10022     USA       NaN              Yu             Kwai    Small  \n",
       "1      51100  France      EMEA         Henriot             Paul    Small  \n",
       "2      75508  France      EMEA        Da Cunha           Daniel   Medium  \n",
       "3      90003     USA       NaN           Young            Julie   Medium  \n",
       "4        NaN     USA       NaN           Brown            Julie   Medium  \n",
       "\n",
       "[5 rows x 25 columns]"
      ]
     },
     "execution_count": 11,
     "metadata": {},
     "output_type": "execute_result"
    }
   ],
   "source": [
    "df = pd.read_csv('http://taanila.fi/sales_data_sample.csv', encoding = 'cp1252')\n",
    "df.head()"
   ]
  },
  {
   "cell_type": "code",
   "execution_count": 24,
   "metadata": {},
   "outputs": [],
   "source": [
    "# Tehdään taulukko, josta nähdään kauppojen eri kokojen määrät vuosineljänneksittäin.\n",
    "# Listataan muuttujien arvot.\n",
    "QTR_ID = ['Q1', 'Q2', 'Q3', 'Q4']\n",
    "DEALSIZE = ['Small', 'Medium', 'Large']"
   ]
  },
  {
   "cell_type": "code",
   "execution_count": 25,
   "metadata": {},
   "outputs": [
    {
     "data": {
      "text/html": [
       "<div>\n",
       "<style scoped>\n",
       "    .dataframe tbody tr th:only-of-type {\n",
       "        vertical-align: middle;\n",
       "    }\n",
       "\n",
       "    .dataframe tbody tr th {\n",
       "        vertical-align: top;\n",
       "    }\n",
       "\n",
       "    .dataframe thead th {\n",
       "        text-align: right;\n",
       "    }\n",
       "</style>\n",
       "<table border=\"1\" class=\"dataframe\">\n",
       "  <thead>\n",
       "    <tr style=\"text-align: right;\">\n",
       "      <th></th>\n",
       "      <th>Small</th>\n",
       "      <th>Medium</th>\n",
       "      <th>Large</th>\n",
       "    </tr>\n",
       "  </thead>\n",
       "  <tbody>\n",
       "    <tr>\n",
       "      <td>Q1</td>\n",
       "      <td>32</td>\n",
       "      <td>338</td>\n",
       "      <td>295</td>\n",
       "    </tr>\n",
       "    <tr>\n",
       "      <td>Q2</td>\n",
       "      <td>47</td>\n",
       "      <td>260</td>\n",
       "      <td>254</td>\n",
       "    </tr>\n",
       "    <tr>\n",
       "      <td>Q3</td>\n",
       "      <td>26</td>\n",
       "      <td>237</td>\n",
       "      <td>240</td>\n",
       "    </tr>\n",
       "    <tr>\n",
       "      <td>Q4</td>\n",
       "      <td>52</td>\n",
       "      <td>549</td>\n",
       "      <td>493</td>\n",
       "    </tr>\n",
       "  </tbody>\n",
       "</table>\n",
       "</div>"
      ],
      "text/plain": [
       "    Small  Medium  Large\n",
       "Q1     32     338    295\n",
       "Q2     47     260    254\n",
       "Q3     26     237    240\n",
       "Q4     52     549    493"
      ]
     },
     "execution_count": 25,
     "metadata": {},
     "output_type": "execute_result"
    }
   ],
   "source": [
    "df1 = pd.crosstab(df['QTR_ID'], df['DEALSIZE']) # Tehdään ristiintaulukointi.\n",
    "\n",
    "df1.index = QTR_ID # Lisätään otsikot.\n",
    "df1.columns = DEALSIZE\n",
    "\n",
    "df1"
   ]
  },
  {
   "cell_type": "code",
   "execution_count": 42,
   "metadata": {},
   "outputs": [
    {
     "data": {
      "text/html": [
       "<style  type=\"text/css\" >\n",
       "</style><table id=\"T_218906a8_fb1f_11e9_8e7f_1c1b0d9a530b\" ><thead>    <tr>        <th class=\"blank level0\" ></th>        <th class=\"col_heading level0 col0\" >Small, n=0</th>        <th class=\"col_heading level0 col1\" >Medium, n=0</th>        <th class=\"col_heading level0 col2\" >Large, n=0</th>    </tr></thead><tbody>\n",
       "                <tr>\n",
       "                        <th id=\"T_218906a8_fb1f_11e9_8e7f_1c1b0d9a530blevel0_row0\" class=\"row_heading level0 row0\" >Q1</th>\n",
       "                        <td id=\"T_218906a8_fb1f_11e9_8e7f_1c1b0d9a530brow0_col0\" class=\"data row0 col0\" >20.4 %</td>\n",
       "                        <td id=\"T_218906a8_fb1f_11e9_8e7f_1c1b0d9a530brow0_col1\" class=\"data row0 col1\" >24.4 %</td>\n",
       "                        <td id=\"T_218906a8_fb1f_11e9_8e7f_1c1b0d9a530brow0_col2\" class=\"data row0 col2\" >23.0 %</td>\n",
       "            </tr>\n",
       "            <tr>\n",
       "                        <th id=\"T_218906a8_fb1f_11e9_8e7f_1c1b0d9a530blevel0_row1\" class=\"row_heading level0 row1\" >Q2</th>\n",
       "                        <td id=\"T_218906a8_fb1f_11e9_8e7f_1c1b0d9a530brow1_col0\" class=\"data row1 col0\" >29.9 %</td>\n",
       "                        <td id=\"T_218906a8_fb1f_11e9_8e7f_1c1b0d9a530brow1_col1\" class=\"data row1 col1\" >18.8 %</td>\n",
       "                        <td id=\"T_218906a8_fb1f_11e9_8e7f_1c1b0d9a530brow1_col2\" class=\"data row1 col2\" >19.8 %</td>\n",
       "            </tr>\n",
       "            <tr>\n",
       "                        <th id=\"T_218906a8_fb1f_11e9_8e7f_1c1b0d9a530blevel0_row2\" class=\"row_heading level0 row2\" >Q3</th>\n",
       "                        <td id=\"T_218906a8_fb1f_11e9_8e7f_1c1b0d9a530brow2_col0\" class=\"data row2 col0\" >16.6 %</td>\n",
       "                        <td id=\"T_218906a8_fb1f_11e9_8e7f_1c1b0d9a530brow2_col1\" class=\"data row2 col1\" >17.1 %</td>\n",
       "                        <td id=\"T_218906a8_fb1f_11e9_8e7f_1c1b0d9a530brow2_col2\" class=\"data row2 col2\" >18.7 %</td>\n",
       "            </tr>\n",
       "            <tr>\n",
       "                        <th id=\"T_218906a8_fb1f_11e9_8e7f_1c1b0d9a530blevel0_row3\" class=\"row_heading level0 row3\" >Q4</th>\n",
       "                        <td id=\"T_218906a8_fb1f_11e9_8e7f_1c1b0d9a530brow3_col0\" class=\"data row3 col0\" >33.1 %</td>\n",
       "                        <td id=\"T_218906a8_fb1f_11e9_8e7f_1c1b0d9a530brow3_col1\" class=\"data row3 col1\" >39.7 %</td>\n",
       "                        <td id=\"T_218906a8_fb1f_11e9_8e7f_1c1b0d9a530brow3_col2\" class=\"data row3 col2\" >38.5 %</td>\n",
       "            </tr>\n",
       "    </tbody></table>"
      ],
      "text/plain": [
       "<pandas.io.formats.style.Styler at 0x249392c5088>"
      ]
     },
     "execution_count": 42,
     "metadata": {},
     "output_type": "execute_result"
    }
   ],
   "source": [
    "# Tehdään taulukko, jossa on edellisen taulukon tiedot prosentteina.\n",
    "df2 = pd.crosstab(df['QTR_ID'], df['DEALSIZE'], normalize = 'columns')\n",
    "\n",
    "df2.index = QTR_ID # Lisätään riviotsikot.\n",
    "\n",
    "# En jostain syystä saanut n-arvoja näkymään oikein.\n",
    "pienet = df['QTR_ID'][df['DEALSIZE']==1].count()\n",
    "keskikokoiset = df['QTR_ID'][df['DEALSIZE']==2].count()\n",
    "suuret = df['QTR_ID'][df['DEALSIZE']==3].count()\n",
    "df2.columns = ['Small, n=' + str(pienet), 'Medium, n=' + str(keskikokoiset), 'Large, n=' + str(suuret)]\n",
    "\n",
    "(df2*100).style.format('{:.1f} %') # Viimeisttellään prosenttilukujen ulkoasu."
   ]
  },
  {
   "cell_type": "code",
   "execution_count": 34,
   "metadata": {},
   "outputs": [
    {
     "data": {
      "text/plain": [
       "[Text(0, 0, '0 %'),\n",
       " Text(0, 0, '5 %'),\n",
       " Text(0, 0, '10 %'),\n",
       " Text(0, 0, '15 %'),\n",
       " Text(0, 0, '20 %'),\n",
       " Text(0, 0, '25 %'),\n",
       " Text(0, 0, '30 %'),\n",
       " Text(0, 0, '35 %'),\n",
       " Text(0, 0, '40 %'),\n",
       " Text(0, 0, '45 %')]"
      ]
     },
     "execution_count": 34,
     "metadata": {},
     "output_type": "execute_result"
    },
    {
     "data": {
      "image/png": "[encoded data removed]",
      "text/plain": [
       "<Figure size 432x288 with 1 Axes>"
      ]
     },
     "metadata": {
      "needs_background": "light"
     },
     "output_type": "display_data"
    }
   ],
   "source": [
    "ax1 = df2.plot.barh(legend='reverse') # Tehdään edellisestä pylväskuvio.\n",
    "\n",
    "ax1.set_xlabel('Prosenttia kaikista') # X-akselin nimi.\n",
    "\n",
    "ax1.set_xticklabels(['{:.0f} %'.format(x*100) for x in ax1.get_xticks()]) # Viimeisttellään prosenttilukujen ulkoasu."
   ]
  },
  {
   "cell_type": "code",
   "execution_count": 46,
   "metadata": {},
   "outputs": [
    {
     "data": {
      "text/plain": [
       "[Text(0, 0, '0 %'),\n",
       " Text(0, 0, '20 %'),\n",
       " Text(0, 0, '40 %'),\n",
       " Text(0, 0, '60 %'),\n",
       " Text(0, 0, '80 %'),\n",
       " Text(0, 0, '100 %'),\n",
       " Text(0, 0, '120 %')]"
      ]
     },
     "execution_count": 46,
     "metadata": {},
     "output_type": "execute_result"
    },
    {
     "data": {
      "image/png": "[encoded data removed]",
      "text/plain": [
       "<Figure size 432x288 with 1 Axes>"
      ]
     },
     "metadata": {
      "needs_background": "light"
     },
     "output_type": "display_data"
    }
   ],
   "source": [
    "ax2 = df2.T.plot.barh(stacked = True) # Sama pinottuina pylväinä.\n",
    "\n",
    "ax2.set_xlabel('Prosenttia kaikista') # X-akselin nimi.\n",
    "\n",
    "ax2.legend(loc=(0.16, -0.25), ncol=4) # Nimen sijoittaminen keskelle kokeilemalla.\n",
    " \n",
    "ax2.set_xticklabels(['{:.0f} %'.format(x*100) for x in ax2.get_xticks()]) # Viimeisttellään prosenttilukujen ulkoasu."
   ]
  },
  {
   "cell_type": "code",
   "execution_count": 40,
   "metadata": {},
   "outputs": [
    {
     "data": {
      "text/plain": [
       "(12.811966019594855,\n",
       " 0.04612104098188777,\n",
       " 6,\n",
       " array([[ 36.98370528, 326.02196245, 301.99433227],\n",
       "        [ 31.19978746, 275.03506908, 254.76514346],\n",
       "        [ 27.97414098, 246.60007085, 228.42578817],\n",
       "        [ 60.84236628, 536.34289763, 496.8147361 ]]))"
      ]
     },
     "execution_count": 40,
     "metadata": {},
     "output_type": "execute_result"
    }
   ],
   "source": [
    "# Tehdään khiin neliö -testi, josta saadaan muuttujien riippuvuudesta kertova p-arvo.\n",
    "# P-arvo on alle 0,05, joten tulos on tilastollisesti merkitsevä.\n",
    "from scipy.stats import chi2_contingency\n",
    "chi2_contingency(pd.crosstab(df['QTR_ID'], df['DEALSIZE']))"
   ]
  },
  {
   "cell_type": "code",
   "execution_count": null,
   "metadata": {},
   "outputs": [],
   "source": []
  }
 ],
 "metadata": {
  "kernelspec": {
   "display_name": "Python 3",
   "language": "python",
   "name": "python3"
  },
  "language_info": {
   "codemirror_mode": {
    "name": "ipython",
    "version": 3
   },
   "file_extension": ".py",
   "mimetype": "text/x-python",
   "name": "python",
   "nbconvert_exporter": "python",
   "pygments_lexer": "ipython3",
   "version": "3.7.4"
  }
 },
 "nbformat": 4,
 "nbformat_minor": 2
}
