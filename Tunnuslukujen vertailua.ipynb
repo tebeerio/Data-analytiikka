{
 "cells": [
  {
   "cell_type": "code",
   "execution_count": 1,
   "metadata": {},
   "outputs": [],
   "source": [
    "import pandas as pd # Tuodaan pandas-kirjasto.\n",
    "import matplotlib.pyplot as plt # Tuodaan kuvioiden ja kaavioiden peruskirjasto.\n",
    "import seaborn as sns # Tuodaan seaborn-kirjasto.\n",
    "# Tällä komennolla kaaviot saadaan tulostumaan automaattisesti ilman erillistä komentoa.\n",
    "%matplotlib inline \n",
    "\n",
    "plt.style.use('seaborn-whitegrid') # Kaavioiden ulkoasun tyyli."
   ]
  },
  {
   "cell_type": "code",
   "execution_count": 2,
   "metadata": {},
   "outputs": [
    {
     "data": {
      "text/html": [
       "<div>\n",
       "<style scoped>\n",
       "    .dataframe tbody tr th:only-of-type {\n",
       "        vertical-align: middle;\n",
       "    }\n",
       "\n",
       "    .dataframe tbody tr th {\n",
       "        vertical-align: top;\n",
       "    }\n",
       "\n",
       "    .dataframe thead th {\n",
       "        text-align: right;\n",
       "    }\n",
       "</style>\n",
       "<table border=\"1\" class=\"dataframe\">\n",
       "  <thead>\n",
       "    <tr style=\"text-align: right;\">\n",
       "      <th></th>\n",
       "      <th>ORDERNUMBER</th>\n",
       "      <th>QUANTITYORDERED</th>\n",
       "      <th>PRICEEACH</th>\n",
       "      <th>ORDERLINENUMBER</th>\n",
       "      <th>SALES</th>\n",
       "      <th>ORDERDATE</th>\n",
       "      <th>STATUS</th>\n",
       "      <th>QTR_ID</th>\n",
       "      <th>MONTH_ID</th>\n",
       "      <th>YEAR_ID</th>\n",
       "      <th>...</th>\n",
       "      <th>ADDRESSLINE1</th>\n",
       "      <th>ADDRESSLINE2</th>\n",
       "      <th>CITY</th>\n",
       "      <th>STATE</th>\n",
       "      <th>POSTALCODE</th>\n",
       "      <th>COUNTRY</th>\n",
       "      <th>TERRITORY</th>\n",
       "      <th>CONTACTLASTNAME</th>\n",
       "      <th>CONTACTFIRSTNAME</th>\n",
       "      <th>DEALSIZE</th>\n",
       "    </tr>\n",
       "  </thead>\n",
       "  <tbody>\n",
       "    <tr>\n",
       "      <td>0</td>\n",
       "      <td>10107</td>\n",
       "      <td>30</td>\n",
       "      <td>95.70</td>\n",
       "      <td>2</td>\n",
       "      <td>2871.00</td>\n",
       "      <td>2/24/2003 0:00</td>\n",
       "      <td>Shipped</td>\n",
       "      <td>1</td>\n",
       "      <td>2</td>\n",
       "      <td>2003</td>\n",
       "      <td>...</td>\n",
       "      <td>897 Long Airport Avenue</td>\n",
       "      <td>NaN</td>\n",
       "      <td>NYC</td>\n",
       "      <td>NY</td>\n",
       "      <td>10022</td>\n",
       "      <td>USA</td>\n",
       "      <td>NaN</td>\n",
       "      <td>Yu</td>\n",
       "      <td>Kwai</td>\n",
       "      <td>Small</td>\n",
       "    </tr>\n",
       "    <tr>\n",
       "      <td>1</td>\n",
       "      <td>10121</td>\n",
       "      <td>34</td>\n",
       "      <td>81.35</td>\n",
       "      <td>5</td>\n",
       "      <td>2765.90</td>\n",
       "      <td>5/7/2003 0:00</td>\n",
       "      <td>Shipped</td>\n",
       "      <td>2</td>\n",
       "      <td>5</td>\n",
       "      <td>2003</td>\n",
       "      <td>...</td>\n",
       "      <td>59 rue de l'Abbaye</td>\n",
       "      <td>NaN</td>\n",
       "      <td>Reims</td>\n",
       "      <td>NaN</td>\n",
       "      <td>51100</td>\n",
       "      <td>France</td>\n",
       "      <td>EMEA</td>\n",
       "      <td>Henriot</td>\n",
       "      <td>Paul</td>\n",
       "      <td>Small</td>\n",
       "    </tr>\n",
       "    <tr>\n",
       "      <td>2</td>\n",
       "      <td>10134</td>\n",
       "      <td>41</td>\n",
       "      <td>94.74</td>\n",
       "      <td>2</td>\n",
       "      <td>3884.34</td>\n",
       "      <td>7/1/2003 0:00</td>\n",
       "      <td>Shipped</td>\n",
       "      <td>3</td>\n",
       "      <td>7</td>\n",
       "      <td>2003</td>\n",
       "      <td>...</td>\n",
       "      <td>27 rue du Colonel Pierre Avia</td>\n",
       "      <td>NaN</td>\n",
       "      <td>Paris</td>\n",
       "      <td>NaN</td>\n",
       "      <td>75508</td>\n",
       "      <td>France</td>\n",
       "      <td>EMEA</td>\n",
       "      <td>Da Cunha</td>\n",
       "      <td>Daniel</td>\n",
       "      <td>Medium</td>\n",
       "    </tr>\n",
       "    <tr>\n",
       "      <td>3</td>\n",
       "      <td>10145</td>\n",
       "      <td>45</td>\n",
       "      <td>83.26</td>\n",
       "      <td>6</td>\n",
       "      <td>3746.70</td>\n",
       "      <td>8/25/2003 0:00</td>\n",
       "      <td>Shipped</td>\n",
       "      <td>3</td>\n",
       "      <td>8</td>\n",
       "      <td>2003</td>\n",
       "      <td>...</td>\n",
       "      <td>78934 Hillside Dr.</td>\n",
       "      <td>NaN</td>\n",
       "      <td>Pasadena</td>\n",
       "      <td>CA</td>\n",
       "      <td>90003</td>\n",
       "      <td>USA</td>\n",
       "      <td>NaN</td>\n",
       "      <td>Young</td>\n",
       "      <td>Julie</td>\n",
       "      <td>Medium</td>\n",
       "    </tr>\n",
       "    <tr>\n",
       "      <td>4</td>\n",
       "      <td>10159</td>\n",
       "      <td>49</td>\n",
       "      <td>100.00</td>\n",
       "      <td>14</td>\n",
       "      <td>5205.27</td>\n",
       "      <td>10/10/2003 0:00</td>\n",
       "      <td>Shipped</td>\n",
       "      <td>4</td>\n",
       "      <td>10</td>\n",
       "      <td>2003</td>\n",
       "      <td>...</td>\n",
       "      <td>7734 Strong St.</td>\n",
       "      <td>NaN</td>\n",
       "      <td>San Francisco</td>\n",
       "      <td>CA</td>\n",
       "      <td>NaN</td>\n",
       "      <td>USA</td>\n",
       "      <td>NaN</td>\n",
       "      <td>Brown</td>\n",
       "      <td>Julie</td>\n",
       "      <td>Medium</td>\n",
       "    </tr>\n",
       "  </tbody>\n",
       "</table>\n",
       "<p>5 rows × 25 columns</p>\n",
       "</div>"
      ],
      "text/plain": [
       "   ORDERNUMBER  QUANTITYORDERED  PRICEEACH  ORDERLINENUMBER    SALES  \\\n",
       "0        10107               30      95.70                2  2871.00   \n",
       "1        10121               34      81.35                5  2765.90   \n",
       "2        10134               41      94.74                2  3884.34   \n",
       "3        10145               45      83.26                6  3746.70   \n",
       "4        10159               49     100.00               14  5205.27   \n",
       "\n",
       "         ORDERDATE   STATUS  QTR_ID  MONTH_ID  YEAR_ID  ...  \\\n",
       "0   2/24/2003 0:00  Shipped       1         2     2003  ...   \n",
       "1    5/7/2003 0:00  Shipped       2         5     2003  ...   \n",
       "2    7/1/2003 0:00  Shipped       3         7     2003  ...   \n",
       "3   8/25/2003 0:00  Shipped       3         8     2003  ...   \n",
       "4  10/10/2003 0:00  Shipped       4        10     2003  ...   \n",
       "\n",
       "                    ADDRESSLINE1  ADDRESSLINE2           CITY STATE  \\\n",
       "0        897 Long Airport Avenue           NaN            NYC    NY   \n",
       "1             59 rue de l'Abbaye           NaN          Reims   NaN   \n",
       "2  27 rue du Colonel Pierre Avia           NaN          Paris   NaN   \n",
       "3             78934 Hillside Dr.           NaN       Pasadena    CA   \n",
       "4                7734 Strong St.           NaN  San Francisco    CA   \n",
       "\n",
       "  POSTALCODE COUNTRY TERRITORY CONTACTLASTNAME CONTACTFIRSTNAME DEALSIZE  \n",
       "0      10022     USA       NaN              Yu             Kwai    Small  \n",
       "1      51100  France      EMEA         Henriot             Paul    Small  \n",
       "2      75508  France      EMEA        Da Cunha           Daniel   Medium  \n",
       "3      90003     USA       NaN           Young            Julie   Medium  \n",
       "4        NaN     USA       NaN           Brown            Julie   Medium  \n",
       "\n",
       "[5 rows x 25 columns]"
      ]
     },
     "execution_count": 2,
     "metadata": {},
     "output_type": "execute_result"
    }
   ],
   "source": [
    "df = pd.read_csv('http://taanila.fi/sales_data_sample.csv', encoding = 'cp1252')\n",
    "df.head()"
   ]
  },
  {
   "cell_type": "code",
   "execution_count": 16,
   "metadata": {},
   "outputs": [],
   "source": [
    "# Tehdään tunnuslukutaulukko, josta näkee myyntien tunnusluvut vuosineljänneksittäin.\n",
    "QTR_ID = ['Q1', 'Q2', 'Q3', 'Q4'] # Lisätään vuosineljänneksien tekstimuotoiset arvot.\n",
    "DEALSIZE = ['Small', 'Medium', 'Large']"
   ]
  },
  {
   "cell_type": "code",
   "execution_count": 12,
   "metadata": {
    "scrolled": false
   },
   "outputs": [
    {
     "data": {
      "text/html": [
       "<style  type=\"text/css\" >\n",
       "</style><table id=\"T_ef2c71c6_ffec_11e9_a367_1c1b0d9a530b\" ><thead>    <tr>        <th class=\"blank level0\" ></th>        <th class=\"col_heading level0 col0\" >count</th>        <th class=\"col_heading level0 col1\" >mean</th>        <th class=\"col_heading level0 col2\" >std</th>        <th class=\"col_heading level0 col3\" >min</th>        <th class=\"col_heading level0 col4\" >25%</th>        <th class=\"col_heading level0 col5\" >50%</th>        <th class=\"col_heading level0 col6\" >75%</th>        <th class=\"col_heading level0 col7\" >max</th>    </tr></thead><tbody>\n",
       "                <tr>\n",
       "                        <th id=\"T_ef2c71c6_ffec_11e9_a367_1c1b0d9a530blevel0_row0\" class=\"row_heading level0 row0\" >Q1</th>\n",
       "                        <td id=\"T_ef2c71c6_ffec_11e9_a367_1c1b0d9a530brow0_col0\" class=\"data row0 col0\" >665</td>\n",
       "                        <td id=\"T_ef2c71c6_ffec_11e9_a367_1c1b0d9a530brow0_col1\" class=\"data row0 col1\" >3535</td>\n",
       "                        <td id=\"T_ef2c71c6_ffec_11e9_a367_1c1b0d9a530brow0_col2\" class=\"data row0 col2\" >1735</td>\n",
       "                        <td id=\"T_ef2c71c6_ffec_11e9_a367_1c1b0d9a530brow0_col3\" class=\"data row0 col3\" >684</td>\n",
       "                        <td id=\"T_ef2c71c6_ffec_11e9_a367_1c1b0d9a530brow0_col4\" class=\"data row0 col4\" >2231</td>\n",
       "                        <td id=\"T_ef2c71c6_ffec_11e9_a367_1c1b0d9a530brow0_col5\" class=\"data row0 col5\" >3222</td>\n",
       "                        <td id=\"T_ef2c71c6_ffec_11e9_a367_1c1b0d9a530brow0_col6\" class=\"data row0 col6\" >4518</td>\n",
       "                        <td id=\"T_ef2c71c6_ffec_11e9_a367_1c1b0d9a530brow0_col7\" class=\"data row0 col7\" >10067</td>\n",
       "            </tr>\n",
       "            <tr>\n",
       "                        <th id=\"T_ef2c71c6_ffec_11e9_a367_1c1b0d9a530blevel0_row1\" class=\"row_heading level0 row1\" >Q2</th>\n",
       "                        <td id=\"T_ef2c71c6_ffec_11e9_a367_1c1b0d9a530brow1_col0\" class=\"data row1 col0\" >561</td>\n",
       "                        <td id=\"T_ef2c71c6_ffec_11e9_a367_1c1b0d9a530brow1_col1\" class=\"data row1 col1\" >3651</td>\n",
       "                        <td id=\"T_ef2c71c6_ffec_11e9_a367_1c1b0d9a530brow1_col2\" class=\"data row1 col2\" >2113</td>\n",
       "                        <td id=\"T_ef2c71c6_ffec_11e9_a367_1c1b0d9a530brow1_col3\" class=\"data row1 col3\" >482</td>\n",
       "                        <td id=\"T_ef2c71c6_ffec_11e9_a367_1c1b0d9a530brow1_col4\" class=\"data row1 col4\" >2115</td>\n",
       "                        <td id=\"T_ef2c71c6_ffec_11e9_a367_1c1b0d9a530brow1_col5\" class=\"data row1 col5\" >3138</td>\n",
       "                        <td id=\"T_ef2c71c6_ffec_11e9_a367_1c1b0d9a530brow1_col6\" class=\"data row1 col6\" >4597</td>\n",
       "                        <td id=\"T_ef2c71c6_ffec_11e9_a367_1c1b0d9a530brow1_col7\" class=\"data row1 col7\" >14083</td>\n",
       "            </tr>\n",
       "            <tr>\n",
       "                        <th id=\"T_ef2c71c6_ffec_11e9_a367_1c1b0d9a530blevel0_row2\" class=\"row_heading level0 row2\" >Q3</th>\n",
       "                        <td id=\"T_ef2c71c6_ffec_11e9_a367_1c1b0d9a530brow2_col0\" class=\"data row2 col0\" >503</td>\n",
       "                        <td id=\"T_ef2c71c6_ffec_11e9_a367_1c1b0d9a530brow2_col1\" class=\"data row2 col1\" >3497</td>\n",
       "                        <td id=\"T_ef2c71c6_ffec_11e9_a367_1c1b0d9a530brow2_col2\" class=\"data row2 col2\" >1782</td>\n",
       "                        <td id=\"T_ef2c71c6_ffec_11e9_a367_1c1b0d9a530brow2_col3\" class=\"data row2 col3\" >578</td>\n",
       "                        <td id=\"T_ef2c71c6_ffec_11e9_a367_1c1b0d9a530brow2_col4\" class=\"data row2 col4\" >2152</td>\n",
       "                        <td id=\"T_ef2c71c6_ffec_11e9_a367_1c1b0d9a530brow2_col5\" class=\"data row2 col5\" >3099</td>\n",
       "                        <td id=\"T_ef2c71c6_ffec_11e9_a367_1c1b0d9a530brow2_col6\" class=\"data row2 col6\" >4462</td>\n",
       "                        <td id=\"T_ef2c71c6_ffec_11e9_a367_1c1b0d9a530brow2_col7\" class=\"data row2 col7\" >10994</td>\n",
       "            </tr>\n",
       "            <tr>\n",
       "                        <th id=\"T_ef2c71c6_ffec_11e9_a367_1c1b0d9a530blevel0_row3\" class=\"row_heading level0 row3\" >Q4</th>\n",
       "                        <td id=\"T_ef2c71c6_ffec_11e9_a367_1c1b0d9a530brow3_col0\" class=\"data row3 col0\" >1094</td>\n",
       "                        <td id=\"T_ef2c71c6_ffec_11e9_a367_1c1b0d9a530brow3_col1\" class=\"data row3 col1\" >3542</td>\n",
       "                        <td id=\"T_ef2c71c6_ffec_11e9_a367_1c1b0d9a530brow3_col2\" class=\"data row3 col2\" >1782</td>\n",
       "                        <td id=\"T_ef2c71c6_ffec_11e9_a367_1c1b0d9a530brow3_col3\" class=\"data row3 col3\" >695</td>\n",
       "                        <td id=\"T_ef2c71c6_ffec_11e9_a367_1c1b0d9a530brow3_col4\" class=\"data row3 col4\" >2228</td>\n",
       "                        <td id=\"T_ef2c71c6_ffec_11e9_a367_1c1b0d9a530brow3_col5\" class=\"data row3 col5\" >3207</td>\n",
       "                        <td id=\"T_ef2c71c6_ffec_11e9_a367_1c1b0d9a530brow3_col6\" class=\"data row3 col6\" >4474</td>\n",
       "                        <td id=\"T_ef2c71c6_ffec_11e9_a367_1c1b0d9a530brow3_col7\" class=\"data row3 col7\" >12536</td>\n",
       "            </tr>\n",
       "    </tbody></table>"
      ],
      "text/plain": [
       "<pandas.io.formats.style.Styler at 0x255b897c748>"
      ]
     },
     "execution_count": 12,
     "metadata": {},
     "output_type": "execute_result"
    }
   ],
   "source": [
    "df1 = df.groupby('QTR_ID')['SALES'].describe()\n",
    "df1.index = QTR_ID\n",
    "df1.style.format('{:.0f}')"
   ]
  },
  {
   "cell_type": "code",
   "execution_count": 13,
   "metadata": {},
   "outputs": [
    {
     "data": {
      "text/plain": [
       "[Text(0, 0, 'Q1'), Text(0, 0, 'Q2'), Text(0, 0, 'Q3'), Text(0, 0, 'Q4')]"
      ]
     },
     "execution_count": 13,
     "metadata": {},
     "output_type": "execute_result"
    },
    {
     "data": {
      "image/png": "[encoded data removed]",
      "text/plain": [
       "<Figure size 432x288 with 1 Axes>"
      ]
     },
     "metadata": {
      "needs_background": "light"
     },
     "output_type": "display_data"
    }
   ],
   "source": [
    "# Edellinen boxplot-kuviona, josta nähdään pienin, alaneljännes, mediaani, yläneljännes, suurin ja poikkeavat arvot.\n",
    "ax1 = sns.boxplot(x='QTR_ID', y='SALES', data=df)\n",
    "ax1.set_xticklabels(QTR_ID)"
   ]
  },
  {
   "cell_type": "code",
   "execution_count": 17,
   "metadata": {},
   "outputs": [
    {
     "data": {
      "text/html": [
       "<style  type=\"text/css\" >\n",
       "</style><table id=\"T_5c315c86_ffed_11e9_afb1_1c1b0d9a530b\" ><thead>    <tr>        <th class=\"blank level0\" ></th>        <th class=\"col_heading level0 col0\" >count</th>        <th class=\"col_heading level0 col1\" >mean</th>        <th class=\"col_heading level0 col2\" >std</th>        <th class=\"col_heading level0 col3\" >min</th>        <th class=\"col_heading level0 col4\" >25%</th>        <th class=\"col_heading level0 col5\" >50%</th>        <th class=\"col_heading level0 col6\" >75%</th>        <th class=\"col_heading level0 col7\" >max</th>    </tr></thead><tbody>\n",
       "                <tr>\n",
       "                        <th id=\"T_5c315c86_ffed_11e9_afb1_1c1b0d9a530blevel0_row0\" class=\"row_heading level0 row0\" >Small</th>\n",
       "                        <td id=\"T_5c315c86_ffed_11e9_afb1_1c1b0d9a530brow0_col0\" class=\"data row0 col0\" >157</td>\n",
       "                        <td id=\"T_5c315c86_ffed_11e9_afb1_1c1b0d9a530brow0_col1\" class=\"data row0 col1\" >8294</td>\n",
       "                        <td id=\"T_5c315c86_ffed_11e9_afb1_1c1b0d9a530brow0_col2\" class=\"data row0 col2\" >1295</td>\n",
       "                        <td id=\"T_5c315c86_ffed_11e9_afb1_1c1b0d9a530brow0_col3\" class=\"data row0 col3\" >7016</td>\n",
       "                        <td id=\"T_5c315c86_ffed_11e9_afb1_1c1b0d9a530brow0_col4\" class=\"data row0 col4\" >7329</td>\n",
       "                        <td id=\"T_5c315c86_ffed_11e9_afb1_1c1b0d9a530brow0_col5\" class=\"data row0 col5\" >8009</td>\n",
       "                        <td id=\"T_5c315c86_ffed_11e9_afb1_1c1b0d9a530brow0_col6\" class=\"data row0 col6\" >8755</td>\n",
       "                        <td id=\"T_5c315c86_ffed_11e9_afb1_1c1b0d9a530brow0_col7\" class=\"data row0 col7\" >14083</td>\n",
       "            </tr>\n",
       "            <tr>\n",
       "                        <th id=\"T_5c315c86_ffed_11e9_afb1_1c1b0d9a530blevel0_row1\" class=\"row_heading level0 row1\" >Medium</th>\n",
       "                        <td id=\"T_5c315c86_ffed_11e9_afb1_1c1b0d9a530brow1_col0\" class=\"data row1 col0\" >1384</td>\n",
       "                        <td id=\"T_5c315c86_ffed_11e9_afb1_1c1b0d9a530brow1_col1\" class=\"data row1 col1\" >4398</td>\n",
       "                        <td id=\"T_5c315c86_ffed_11e9_afb1_1c1b0d9a530brow1_col2\" class=\"data row1 col2\" >1047</td>\n",
       "                        <td id=\"T_5c315c86_ffed_11e9_afb1_1c1b0d9a530brow1_col3\" class=\"data row1 col3\" >3002</td>\n",
       "                        <td id=\"T_5c315c86_ffed_11e9_afb1_1c1b0d9a530brow1_col4\" class=\"data row1 col4\" >3516</td>\n",
       "                        <td id=\"T_5c315c86_ffed_11e9_afb1_1c1b0d9a530brow1_col5\" class=\"data row1 col5\" >4163</td>\n",
       "                        <td id=\"T_5c315c86_ffed_11e9_afb1_1c1b0d9a530brow1_col6\" class=\"data row1 col6\" >5176</td>\n",
       "                        <td id=\"T_5c315c86_ffed_11e9_afb1_1c1b0d9a530brow1_col7\" class=\"data row1 col7\" >6996</td>\n",
       "            </tr>\n",
       "            <tr>\n",
       "                        <th id=\"T_5c315c86_ffed_11e9_afb1_1c1b0d9a530blevel0_row2\" class=\"row_heading level0 row2\" >Large</th>\n",
       "                        <td id=\"T_5c315c86_ffed_11e9_afb1_1c1b0d9a530brow2_col0\" class=\"data row2 col0\" >1282</td>\n",
       "                        <td id=\"T_5c315c86_ffed_11e9_afb1_1c1b0d9a530brow2_col1\" class=\"data row2 col1\" >2062</td>\n",
       "                        <td id=\"T_5c315c86_ffed_11e9_afb1_1c1b0d9a530brow2_col2\" class=\"data row2 col2\" >577</td>\n",
       "                        <td id=\"T_5c315c86_ffed_11e9_afb1_1c1b0d9a530brow2_col3\" class=\"data row2 col3\" >482</td>\n",
       "                        <td id=\"T_5c315c86_ffed_11e9_afb1_1c1b0d9a530brow2_col4\" class=\"data row2 col4\" >1638</td>\n",
       "                        <td id=\"T_5c315c86_ffed_11e9_afb1_1c1b0d9a530brow2_col5\" class=\"data row2 col5\" >2114</td>\n",
       "                        <td id=\"T_5c315c86_ffed_11e9_afb1_1c1b0d9a530brow2_col6\" class=\"data row2 col6\" >2545</td>\n",
       "                        <td id=\"T_5c315c86_ffed_11e9_afb1_1c1b0d9a530brow2_col7\" class=\"data row2 col7\" >3000</td>\n",
       "            </tr>\n",
       "    </tbody></table>"
      ],
      "text/plain": [
       "<pandas.io.formats.style.Styler at 0x255b8c1d808>"
      ]
     },
     "execution_count": 17,
     "metadata": {},
     "output_type": "execute_result"
    }
   ],
   "source": [
    "df1 = df.groupby('DEALSIZE')['SALES'].describe()\n",
    "df1.index = DEALSIZE\n",
    "df1.style.format('{:.0f}')"
   ]
  },
  {
   "cell_type": "code",
   "execution_count": 18,
   "metadata": {},
   "outputs": [
    {
     "data": {
      "text/plain": [
       "[Text(0, 0, 'Small'), Text(0, 0, 'Medium'), Text(0, 0, 'Large')]"
      ]
     },
     "execution_count": 18,
     "metadata": {},
     "output_type": "execute_result"
    },
    {
     "data": {
      "image/png": "[encoded data removed]",
      "text/plain": [
       "<Figure size 432x288 with 1 Axes>"
      ]
     },
     "metadata": {
      "needs_background": "light"
     },
     "output_type": "display_data"
    }
   ],
   "source": [
    "# Edellinen boxplot-kuviona, josta nähdään pienin, alaneljännes, mediaani, yläneljännes, suurin ja poikkeavat arvot.\n",
    "ax1 = sns.boxplot(x='DEALSIZE', y='SALES', data=df)\n",
    "ax1.set_xticklabels(DEALSIZE)"
   ]
  },
  {
   "cell_type": "code",
   "execution_count": 19,
   "metadata": {},
   "outputs": [
    {
     "data": {
      "text/html": [
       "<style  type=\"text/css\" >\n",
       "</style><table id=\"T_f31ecb12_ffed_11e9_a0ff_1c1b0d9a530b\" ><thead>    <tr>        <th class=\"blank level0\" ></th>        <th class=\"col_heading level0 col0\" >Q1</th>        <th class=\"col_heading level0 col1\" >Q2</th>        <th class=\"col_heading level0 col2\" >Q3</th>        <th class=\"col_heading level0 col3\" >Q4</th>        <th class=\"col_heading level0 col4\" >Kaikki</th>    </tr></thead><tbody>\n",
       "                <tr>\n",
       "                        <th id=\"T_f31ecb12_ffed_11e9_a0ff_1c1b0d9a530blevel0_row0\" class=\"row_heading level0 row0\" >Small</th>\n",
       "                        <td id=\"T_f31ecb12_ffed_11e9_a0ff_1c1b0d9a530brow0_col0\" class=\"data row0 col0\" >8121</td>\n",
       "                        <td id=\"T_f31ecb12_ffed_11e9_a0ff_1c1b0d9a530brow0_col1\" class=\"data row0 col1\" >8532</td>\n",
       "                        <td id=\"T_f31ecb12_ffed_11e9_a0ff_1c1b0d9a530brow0_col2\" class=\"data row0 col2\" >8174</td>\n",
       "                        <td id=\"T_f31ecb12_ffed_11e9_a0ff_1c1b0d9a530brow0_col3\" class=\"data row0 col3\" >8245</td>\n",
       "                        <td id=\"T_f31ecb12_ffed_11e9_a0ff_1c1b0d9a530brow0_col4\" class=\"data row0 col4\" >8294</td>\n",
       "            </tr>\n",
       "            <tr>\n",
       "                        <th id=\"T_f31ecb12_ffed_11e9_a0ff_1c1b0d9a530blevel0_row1\" class=\"row_heading level0 row1\" >Medium</th>\n",
       "                        <td id=\"T_f31ecb12_ffed_11e9_a0ff_1c1b0d9a530brow1_col0\" class=\"data row1 col0\" >4371</td>\n",
       "                        <td id=\"T_f31ecb12_ffed_11e9_a0ff_1c1b0d9a530brow1_col1\" class=\"data row1 col1\" >4384</td>\n",
       "                        <td id=\"T_f31ecb12_ffed_11e9_a0ff_1c1b0d9a530brow1_col2\" class=\"data row1 col2\" >4423</td>\n",
       "                        <td id=\"T_f31ecb12_ffed_11e9_a0ff_1c1b0d9a530brow1_col3\" class=\"data row1 col3\" >4411</td>\n",
       "                        <td id=\"T_f31ecb12_ffed_11e9_a0ff_1c1b0d9a530brow1_col4\" class=\"data row1 col4\" >4398</td>\n",
       "            </tr>\n",
       "            <tr>\n",
       "                        <th id=\"T_f31ecb12_ffed_11e9_a0ff_1c1b0d9a530blevel0_row2\" class=\"row_heading level0 row2\" >Large</th>\n",
       "                        <td id=\"T_f31ecb12_ffed_11e9_a0ff_1c1b0d9a530brow2_col0\" class=\"data row2 col0\" >2080</td>\n",
       "                        <td id=\"T_f31ecb12_ffed_11e9_a0ff_1c1b0d9a530brow2_col1\" class=\"data row2 col1\" >1997</td>\n",
       "                        <td id=\"T_f31ecb12_ffed_11e9_a0ff_1c1b0d9a530brow2_col2\" class=\"data row2 col2\" >2076</td>\n",
       "                        <td id=\"T_f31ecb12_ffed_11e9_a0ff_1c1b0d9a530brow2_col3\" class=\"data row2 col3\" >2077</td>\n",
       "                        <td id=\"T_f31ecb12_ffed_11e9_a0ff_1c1b0d9a530brow2_col4\" class=\"data row2 col4\" >2062</td>\n",
       "            </tr>\n",
       "            <tr>\n",
       "                        <th id=\"T_f31ecb12_ffed_11e9_a0ff_1c1b0d9a530blevel0_row3\" class=\"row_heading level0 row3\" >Kaikki</th>\n",
       "                        <td id=\"T_f31ecb12_ffed_11e9_a0ff_1c1b0d9a530brow3_col0\" class=\"data row3 col0\" >3535</td>\n",
       "                        <td id=\"T_f31ecb12_ffed_11e9_a0ff_1c1b0d9a530brow3_col1\" class=\"data row3 col1\" >3651</td>\n",
       "                        <td id=\"T_f31ecb12_ffed_11e9_a0ff_1c1b0d9a530brow3_col2\" class=\"data row3 col2\" >3497</td>\n",
       "                        <td id=\"T_f31ecb12_ffed_11e9_a0ff_1c1b0d9a530brow3_col3\" class=\"data row3 col3\" >3542</td>\n",
       "                        <td id=\"T_f31ecb12_ffed_11e9_a0ff_1c1b0d9a530brow3_col4\" class=\"data row3 col4\" >3554</td>\n",
       "            </tr>\n",
       "    </tbody></table>"
      ],
      "text/plain": [
       "<pandas.io.formats.style.Styler at 0x255b862cfc8>"
      ]
     },
     "execution_count": 19,
     "metadata": {},
     "output_type": "execute_result"
    }
   ],
   "source": [
    "df3 = df.pivot_table(values='SALES', index='DEALSIZE', columns='QTR_ID', margins=True)\n",
    "df3.index = DEALSIZE + ['Kaikki']\n",
    "df3.columns = QTR_ID + ['Kaikki']\n",
    "df3.style.format('{:.0f}')"
   ]
  },
  {
   "cell_type": "code",
   "execution_count": 21,
   "metadata": {},
   "outputs": [
    {
     "data": {
      "text/plain": [
       "Ttest_indResult(statistic=-1.0360074922179652, pvalue=0.3004299515552587)"
      ]
     },
     "execution_count": 21,
     "metadata": {},
     "output_type": "execute_result"
    }
   ],
   "source": [
    "# Vertailtavien ryhmien muodostaminen\n",
    "s1 = df['SALES'][df['QTR_ID']==1]\n",
    "s2 = df['SALES'][df['QTR_ID']==2]\n",
    "s3 = df['SALES'][df['QTR_ID']==3]\n",
    "s4 = df['SALES'][df['QTR_ID']==4]\n",
    "\n",
    "# Kahden riippumattoman (ind) otoksen t-testi\n",
    "from scipy.stats import ttest_ind\n",
    "ttest_ind(s1, s2, equal_var=False)"
   ]
  },
  {
   "cell_type": "code",
   "execution_count": null,
   "metadata": {},
   "outputs": [],
   "source": []
  }
 ],
 "metadata": {
  "kernelspec": {
   "display_name": "Python 3",
   "language": "python",
   "name": "python3"
  },
  "language_info": {
   "codemirror_mode": {
    "name": "ipython",
    "version": 3
   },
   "file_extension": ".py",
   "mimetype": "text/x-python",
   "name": "python",
   "nbconvert_exporter": "python",
   "pygments_lexer": "ipython3",
   "version": "3.7.4"
  }
 },
 "nbformat": 4,
 "nbformat_minor": 2
}
